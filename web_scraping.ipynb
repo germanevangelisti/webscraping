{
 "cells": [
  {
   "cell_type": "code",
   "execution_count": 1,
   "id": "8114a32a-1e58-41fb-9e1d-a8b5c4c3069e",
   "metadata": {},
   "outputs": [
    {
     "name": "stdout",
     "output_type": "stream",
     "text": [
      "Requirement already satisfied: selenium in /Users/germanevangelisti/miniconda3/lib/python3.10/site-packages (4.10.0)\n",
      "Requirement already satisfied: urllib3[socks]<3,>=1.26 in /Users/germanevangelisti/miniconda3/lib/python3.10/site-packages (from selenium) (1.26.14)\n",
      "Requirement already satisfied: trio-websocket~=0.9 in /Users/germanevangelisti/miniconda3/lib/python3.10/site-packages (from selenium) (0.10.3)\n",
      "Requirement already satisfied: trio~=0.17 in /Users/germanevangelisti/miniconda3/lib/python3.10/site-packages (from selenium) (0.22.2)\n",
      "Requirement already satisfied: certifi>=2021.10.8 in /Users/germanevangelisti/miniconda3/lib/python3.10/site-packages (from selenium) (2022.12.7)\n",
      "Requirement already satisfied: sniffio in /Users/germanevangelisti/miniconda3/lib/python3.10/site-packages (from trio~=0.17->selenium) (1.3.0)\n",
      "Requirement already satisfied: attrs>=20.1.0 in /Users/germanevangelisti/miniconda3/lib/python3.10/site-packages (from trio~=0.17->selenium) (23.1.0)\n",
      "Requirement already satisfied: idna in /Users/germanevangelisti/miniconda3/lib/python3.10/site-packages (from trio~=0.17->selenium) (3.4)\n",
      "Requirement already satisfied: outcome in /Users/germanevangelisti/miniconda3/lib/python3.10/site-packages (from trio~=0.17->selenium) (1.2.0)\n",
      "Requirement already satisfied: exceptiongroup>=1.0.0rc9 in /Users/germanevangelisti/miniconda3/lib/python3.10/site-packages (from trio~=0.17->selenium) (1.1.2)\n",
      "Requirement already satisfied: sortedcontainers in /Users/germanevangelisti/miniconda3/lib/python3.10/site-packages (from trio~=0.17->selenium) (2.4.0)\n",
      "Requirement already satisfied: wsproto>=0.14 in /Users/germanevangelisti/miniconda3/lib/python3.10/site-packages (from trio-websocket~=0.9->selenium) (1.2.0)\n",
      "Requirement already satisfied: PySocks!=1.5.7,<2.0,>=1.5.6 in /Users/germanevangelisti/miniconda3/lib/python3.10/site-packages (from urllib3[socks]<3,>=1.26->selenium) (1.7.1)\n",
      "Requirement already satisfied: h11<1,>=0.9.0 in /Users/germanevangelisti/miniconda3/lib/python3.10/site-packages (from wsproto>=0.14->trio-websocket~=0.9->selenium) (0.14.0)\n",
      "Requirement already satisfied: chromedriver-py==94.0.4606.41 in /Users/germanevangelisti/miniconda3/lib/python3.10/site-packages (94.0.4606.41)\n",
      "Requirement already satisfied: requests in /Users/germanevangelisti/miniconda3/lib/python3.10/site-packages (2.28.1)\n",
      "Requirement already satisfied: idna<4,>=2.5 in /Users/germanevangelisti/miniconda3/lib/python3.10/site-packages (from requests) (3.4)\n",
      "Requirement already satisfied: certifi>=2017.4.17 in /Users/germanevangelisti/miniconda3/lib/python3.10/site-packages (from requests) (2022.12.7)\n",
      "Requirement already satisfied: charset-normalizer<3,>=2 in /Users/germanevangelisti/miniconda3/lib/python3.10/site-packages (from requests) (2.0.4)\n",
      "Requirement already satisfied: urllib3<1.27,>=1.21.1 in /Users/germanevangelisti/miniconda3/lib/python3.10/site-packages (from requests) (1.26.14)\n"
     ]
    }
   ],
   "source": [
    "!pip install selenium\n",
    "!pip install chromedriver-py==94.0.4606.41\n",
    "!pip install requests\n",
    "\n",
    "# libraries\n",
    "import os\n",
    "import pandas as pd\n",
    "import shutil\n",
    "from selenium import webdriver\n",
    "from selenium.webdriver.common.keys import Keys\n",
    "from selenium.webdriver.chrome.options import Options\n",
    "from selenium.webdriver.common.by import By\n",
    "from selenium.webdriver.support.ui import WebDriverWait\n",
    "from selenium.webdriver.support import expected_conditions as EC\n",
    "import time\n",
    "from bs4 import BeautifulSoup as bs\n",
    "from chromedriver_py import binary_path\n",
    "import requests\n",
    "import warnings; warnings.filterwarnings(\"ignore\")\n",
    "\n",
    "# unhide all rows and columns\n",
    "pd.set_option('display.max_rows', 50)\n",
    "pd.set_option('display.max_columns', 50)\n",
    "pd.set_option('display.width', 1000)"
   ]
  },
  {
   "cell_type": "code",
   "execution_count": 2,
   "id": "b7121f44-b936-48f6-af74-c81c98397108",
   "metadata": {},
   "outputs": [],
   "source": [
    "years = list(range(2013,2024))\n",
    "url_start = \"https://www.basketball-reference.com/leagues/NBA_{}.html\""
   ]
  },
  {
   "cell_type": "code",
   "execution_count": 3,
   "id": "0acdd929-8661-491e-8fb4-4279eee34498",
   "metadata": {},
   "outputs": [],
   "source": [
    "dfs = []\n",
    "\n",
    "for year in years:\n",
    "    url = url_start.format(year)\n",
    "    data = requests.get(url)\n",
    "    \n",
    "    with open(\"season/{}.html\".format(year), \"w+\") as f:\n",
    "        f.write(data.text)"
   ]
  },
  {
   "cell_type": "code",
   "execution_count": 4,
   "id": "c2cb6d7c-7333-413b-8a7c-8f249c7f1bd8",
   "metadata": {},
   "outputs": [],
   "source": [
    "for year in years:\n",
    "    with open(\"season/{}.html\".format(year)) as f:\n",
    "        page = f.read()\n",
    "        \n",
    "    soup = bs(page, \"html.parser\")\n",
    "    soup.find(\"tr\", class_ = \"over_header\").decompose()\n",
    "    team_stats_table = soup.find_all(id = \"per_game-team\")\n",
    "    team_stat = pd.read_html(str(team_stats_table))[0]\n",
    "    team_stat[\"Year\"] = year\n",
    "    \n",
    "    dfs.append(team_stat)\n",
    "    team_stats = pd.concat(dfs)"
   ]
  },
  {
   "cell_type": "code",
   "execution_count": 6,
   "id": "cb698bd3-5c01-43ac-8f90-564e781b926a",
   "metadata": {},
   "outputs": [],
   "source": [
    "team_stats = team_stats[team_stats[\"Team\"] != 'League Average']"
   ]
  },
  {
   "cell_type": "code",
   "execution_count": 8,
   "id": "06f5d8f9-8e4b-4e63-9735-2763c734c709",
   "metadata": {},
   "outputs": [],
   "source": [
    "team_stats['Team'] = team_stats['Team'].str.replace('*', '')"
   ]
  },
  {
   "cell_type": "code",
   "execution_count": 10,
   "id": "4387d35e-f4d8-49a3-abe3-c33a1f4f54cf",
   "metadata": {},
   "outputs": [],
   "source": [
    "team_stats = team_stats.drop(team_stats.columns[0], axis=1)\n"
   ]
  },
  {
   "cell_type": "code",
   "execution_count": 26,
   "id": "347e9e6e-45e9-42b8-9c1a-6ae7154a45ff",
   "metadata": {},
   "outputs": [],
   "source": [
    "team_advanced_stats_dfs = []\n",
    "\n",
    "for year in years:\n",
    "    with open(\"season/{}.html\".format(year)) as f:\n",
    "        page = f.read()\n",
    "        \n",
    "    soup = bs(page, \"html.parser\")\n",
    "    soup.find(\"tr\", class_ = \"over_header\").decompose()\n",
    "    team_advanced_stats_table = soup.find_all(id = \"advanced-team\")\n",
    "    team_advanced_stat = pd.read_html(str(team_advanced_stats_table))[0]\n",
    "    team_advanced_stat[\"Year\"] = year\n",
    "    \n",
    "    team_advanced_stats_dfs.append(team_advanced_stat)\n",
    "    team_advanced_stats = pd.concat(team_advanced_stats_dfs)"
   ]
  },
  {
   "cell_type": "code",
   "execution_count": 28,
   "id": "324ed006-08b6-4221-a691-d1923d37ffbd",
   "metadata": {},
   "outputs": [],
   "source": [
    "team_advanced_stats = team_advanced_stats.drop(team_advanced_stats.columns[0], axis=1)"
   ]
  },
  {
   "cell_type": "code",
   "execution_count": 30,
   "id": "07f14349-a29e-4d49-acde-23035ac70b0c",
   "metadata": {},
   "outputs": [],
   "source": [
    "team_advanced_stats['Team'] = team_advanced_stats['Team'].str.replace('*', '')"
   ]
  },
  {
   "cell_type": "code",
   "execution_count": 32,
   "id": "4e3fc369-d041-4d73-bcda-75196712e1de",
   "metadata": {},
   "outputs": [],
   "source": [
    "team_advanced_stats = team_advanced_stats[team_advanced_stats[\"Team\"] != 'League Average']"
   ]
  },
  {
   "cell_type": "code",
   "execution_count": null,
   "id": "9df873d6-78d1-44ed-9673-619916be3d56",
   "metadata": {},
   "outputs": [],
   "source": [
    "team_advanced_stats = team_advanced_stats.drop('Unnamed: 17', axis=1)\n",
    "team_advanced_stats = team_advanced_stats.drop('Unnamed: 22', axis=1)\n",
    "team_advanced_stats = team_advanced_stats.drop('Unnamed: 27', axis=1)"
   ]
  },
  {
   "cell_type": "code",
   "execution_count": 39,
   "id": "ef880f11-e778-4f49-aa7a-f1cd835aaa1f",
   "metadata": {},
   "outputs": [],
   "source": [
    "team_advanced_stats = team_advanced_stats.drop('Arena', axis=1)"
   ]
  },
  {
   "cell_type": "code",
   "execution_count": 42,
   "id": "9fb288bc-b101-466f-aaff-d7ec56541a99",
   "metadata": {},
   "outputs": [],
   "source": [
    "team_advanced_stats.to_csv('team_advanced_stats.csv')"
   ]
  },
  {
   "cell_type": "code",
   "execution_count": 43,
   "id": "af4ece45-3c8c-4e1f-adfa-52fd3e4d25f9",
   "metadata": {},
   "outputs": [],
   "source": [
    "url_playoff_start = 'https://www.basketball-reference.com/playoffs/NBA_{}.html'\n",
    "\n",
    "po_per_game_dfs = []\n",
    "\n",
    "for year in years:\n",
    "    url = url_playoff_start.format(year)\n",
    "    data = requests.get(url)\n",
    "    \n",
    "    with open(\"playoff/{}.html\".format(year), \"w+\") as f:\n",
    "        f.write(data.text)"
   ]
  },
  {
   "cell_type": "code",
   "execution_count": 44,
   "id": "45914aeb-5bfa-4353-b8bf-c03d8d3745b3",
   "metadata": {},
   "outputs": [],
   "source": [
    "for year in years:\n",
    "    with open(\"playoff/{}.html\".format(year)) as f:\n",
    "        page = f.read()\n",
    "        \n",
    "    soup = bs(page, \"html.parser\")\n",
    "    soup.find(\"tr\", class_ = \"over_header\").decompose()\n",
    "    team_po_stats_table = soup.find_all(id = \"per_game-team\")\n",
    "    team_po_stat = pd.read_html(str(team_po_stats_table))[0]\n",
    "    team_po_stat[\"Year\"] = year\n",
    "    \n",
    "    po_per_game_dfs.append(team_po_stat)\n",
    "    team_po_stats = pd.concat(po_per_game_dfs)"
   ]
  },
  {
   "cell_type": "code",
   "execution_count": 46,
   "id": "ce81bf74-e745-4633-978e-150ac637e1c4",
   "metadata": {},
   "outputs": [],
   "source": [
    "team_po_stats = team_po_stats.dropna(subset=['MP'])"
   ]
  },
  {
   "cell_type": "code",
   "execution_count": 49,
   "id": "50834843-fa1f-4e86-851d-5283901c1245",
   "metadata": {},
   "outputs": [],
   "source": [
    "team_po_stats = team_po_stats[team_po_stats[\"Tm\"] != 'League Average']"
   ]
  },
  {
   "cell_type": "code",
   "execution_count": 50,
   "id": "1bf4055a-0517-4b61-90f5-f24710ce2968",
   "metadata": {},
   "outputs": [],
   "source": [
    "team_po_stats = team_po_stats.rename(columns={'Tm': 'Team'})"
   ]
  },
  {
   "cell_type": "code",
   "execution_count": 53,
   "id": "1db4179b-21aa-431e-a89f-b3d06d329eb8",
   "metadata": {},
   "outputs": [],
   "source": [
    "team_po_stats.to_csv('team_po_stats.csv')"
   ]
  },
  {
   "cell_type": "code",
   "execution_count": 54,
   "id": "66bebdf5-4a71-4bcb-92aa-b886556ae4c5",
   "metadata": {},
   "outputs": [],
   "source": [
    "po_adv_stat_dfs = []"
   ]
  },
  {
   "cell_type": "code",
   "execution_count": 55,
   "id": "bb9cd8c1-959d-4bb7-96b2-1f643f06f1d8",
   "metadata": {},
   "outputs": [],
   "source": [
    "for year in years:\n",
    "    with open(\"playoff/{}.html\".format(year)) as f:\n",
    "        page = f.read()\n",
    "        \n",
    "    soup = bs(page, \"html.parser\")\n",
    "    soup.find(\"tr\", class_ = \"over_header\").decompose()\n",
    "    po_adv_stats_table = soup.find_all(id = \"advanced-team\")\n",
    "    po_adv_stat = pd.read_html(str(po_adv_stats_table))[0]\n",
    "    po_adv_stat[\"Year\"] = year\n",
    "    \n",
    "    po_adv_stat_dfs.append(po_adv_stat)\n",
    "    po_adv_stats = pd.concat(po_adv_stat_dfs)"
   ]
  },
  {
   "cell_type": "code",
   "execution_count": 57,
   "id": "926e4e39-642b-4b3f-943c-d509bec12a4d",
   "metadata": {},
   "outputs": [],
   "source": [
    "po_adv_stats = po_adv_stats.drop(po_adv_stats.columns[0], axis=1)\n",
    "po_adv_stats = po_adv_stats[po_adv_stats[\"Tm\"] != 'League Average']\n",
    "po_adv_stats = po_adv_stats.drop('Unnamed: 15', axis=1)\n",
    "po_adv_stats = po_adv_stats.drop('Unnamed: 20', axis=1)"
   ]
  },
  {
   "cell_type": "code",
   "execution_count": 58,
   "id": "1475cc8e-ce27-4a5d-addc-37657a0926e1",
   "metadata": {},
   "outputs": [],
   "source": [
    "po_adv_stats = po_adv_stats.dropna(subset=['Age'])"
   ]
  },
  {
   "cell_type": "code",
   "execution_count": 60,
   "id": "bafcc4c7-6d19-4d9f-88e7-4be7b67e75d1",
   "metadata": {},
   "outputs": [],
   "source": [
    "po_adv_stats = po_adv_stats.rename(columns={'Tm': 'Team'})"
   ]
  },
  {
   "cell_type": "code",
   "execution_count": 62,
   "id": "ce8f492c-9762-4f01-98a1-30dafb98ec34",
   "metadata": {},
   "outputs": [],
   "source": [
    "po_adv_stats.to_csv('po_adv_stats.csv')"
   ]
  }
 ],
 "metadata": {
  "kernelspec": {
   "display_name": "Python 3 (ipykernel)",
   "language": "python",
   "name": "python3"
  },
  "language_info": {
   "codemirror_mode": {
    "name": "ipython",
    "version": 3
   },
   "file_extension": ".py",
   "mimetype": "text/x-python",
   "name": "python",
   "nbconvert_exporter": "python",
   "pygments_lexer": "ipython3",
   "version": "3.10.9"
  }
 },
 "nbformat": 4,
 "nbformat_minor": 5
}
